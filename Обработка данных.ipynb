{
 "cells": [
  {
   "cell_type": "code",
   "execution_count": 1,
   "metadata": {},
   "outputs": [],
   "source": [
    "import warnings\n",
    "warnings.simplefilter(\"ignore\",DeprecationWarning)\n",
    "import pandas as pd\n",
    "import glob\n",
    "import os\n",
    "from sklearn.preprocessing import  MinMaxScaler\n",
    "\n",
    "#Путь к исходным размеченным данным\n",
    "data_path='E:\\Python DA\\Arc Data'"
   ]
  },
  {
   "cell_type": "code",
   "execution_count": 2,
   "metadata": {},
   "outputs": [],
   "source": [
    "#Функция нормализация данных в интервале [0,1]\n",
    "def normalized_data(path):\n",
    "    #Обозначем шаблон файла\n",
    "    file_pattern=path+'\\\\*.csv'\n",
    "    #Из директории модулем glob добавляем все файлы, соответвующее шаблону\n",
    "    all_files = glob.glob(file_pattern) \n",
    "    # Указываем путь для дирректории для сохранения и создаем ее сли ее нет\n",
    "    save_path = 'E:\\Python DA\\\\Normalized Data\\\\all'\n",
    "    os.makedirs(save_path, exist_ok=True)\n",
    "\n",
    "    for file in all_files:\n",
    "        df=pd.read_csv(file, index_col=0) #Получаем файл\n",
    "        if 'IR' in df.columns:\n",
    "            df.pop('IR') #Удаляем столбец IR из данных\n",
    "\n",
    "        numeric_columns=['Ip', 'Vp', 'Vf']\n",
    "        scaler = MinMaxScaler()\n",
    "        df[numeric_columns]= scaler.fit_transform(df[numeric_columns])\n",
    "\n",
    "        output_filepath = os.path.join(save_path, f'norm_{os.path.basename(file)}') #Указываем полный путь сохранения файла\n",
    "        df.to_csv(output_filepath, index=False)\n",
    "\n",
    "    return save_path #Возвращаем путь сохранения данных"
   ]
  },
  {
   "cell_type": "code",
   "execution_count": 3,
   "metadata": {},
   "outputs": [],
   "source": [
    "#Функция получения скользящего среднего в данных\n",
    "def MA_data(path, window_size):\n",
    "    file_pattern=path+'\\\\*.csv'\n",
    "    all_files = glob.glob(file_pattern) \n",
    "    save_path = 'E:\\Python DA\\\\Normalized MA data\\\\all'\n",
    "    os.makedirs(save_path, exist_ok=True)\n",
    "\n",
    "    for file in all_files:\n",
    "        df = pd.read_csv(file)\n",
    "        df = df.dropna() \n",
    "        for col in ['Ip', 'Vp', 'Vf']:\n",
    "            df[col] = df[col].rolling(window=window_size).mean() #Проходим скользящим средним по данным окном размера windo_size\n",
    "\n",
    "        output_filepath = os.path.join(save_path, f'MA_{os.path.basename(file)}')\n",
    "\n",
    "        df.to_csv(output_filepath, index = False)\n",
    "\n",
    "\n",
    "    return save_path"
   ]
  },
  {
   "cell_type": "code",
   "execution_count": 4,
   "metadata": {},
   "outputs": [],
   "source": [
    "#Функция для получения данных заданного объема. На вход подается список директорий и список разделения данных на необходимок оличество\n",
    "def split_data(list_of_paths, list_of_sizes):\n",
    "    for path in list_of_paths: #Перебираем каждый элемент из списка дирректорий\n",
    "        file_pattern=path+'\\\\*.csv'\n",
    "        all_files = glob.glob(file_pattern) \n",
    "        for file in all_files: #Перебираем каждый файл в директории\n",
    "            df=pd.read_csv(file)\n",
    "            df = df.dropna() \n",
    "            df_1= df[df['Arc']==1] #Все данные, которые являются горящей дугой\n",
    "            df_2= df[df['Arc']==2] #Все данные, которы являются погасшей дугой\n",
    "\n",
    "            start_index = min(df_1.index.min(), df_2.index.min()) #Начало интревала с дугой\n",
    "            end_index = max(df_1.index.max(), df_2.index.max()) #Конец интервала с дугой\n",
    "\n",
    "            mid_index = (start_index + end_index) // 2 #Середина интервала\n",
    "            for size in list_of_sizes: #Для каждого размера окна данных\n",
    "                \n",
    "                start_selection = max(0, mid_index - size//2) #Начало окна\n",
    "                end_selection = mid_index + size//2 #Конец окна\n",
    "                selected_data = df.iloc[start_selection:end_selection] \n",
    "\n",
    "                save_path = os.path.join(os.path.dirname(path), f'{size//1000}k')\n",
    "                os.makedirs(save_path, exist_ok=True)\n",
    "                selected_data.to_csv(os.path.join(save_path,f'{size//1000}k_{os.path.basename(file)}'), index = False)\n",
    "                        \n"
   ]
  },
  {
   "cell_type": "code",
   "execution_count": 6,
   "metadata": {},
   "outputs": [],
   "source": [
    "#Функция для преобразования всех файлов в бинарной классифкации\n",
    "def binary_data(path,exclude_paths):\n",
    "    list_of_paths = [f.path for f in os.scandir(path) if f.is_dir() and f.path not in exclude_paths] #Получаем список каталоов, находящихся в path за исключением папок, храящихся в exclude_paths\n",
    "    for dirpath in list_of_paths:\n",
    "        list_of_subdirs = [f.path for f in os.scandir(dirpath) if f.is_dir()] #Получаем подкаталоги из списка каталогов\n",
    "        for directory in list_of_subdirs:\n",
    "            file_pattern = directory+'\\\\*.csv'\n",
    "            all_files=glob.glob(file_pattern)\n",
    "            for file in all_files:\n",
    "                df=pd.read_csv(file)\n",
    "                df = df.dropna() \n",
    "                df['Arc'] = df['Arc'].replace(2,1) #Заменяем в столбце Arc класс 2 на класс 1\n",
    "                save_path = os.path.join(os.path.dirname(dirpath), f'Binary {os.path.basename(dirpath)}\\\\{os.path.basename(directory)}')\n",
    "                os.makedirs(save_path, exist_ok=True)\n",
    "                df.to_csv(os.path.join(save_path, f'Binary_{os.path.basename(file)}'), index = False)\n"
   ]
  },
  {
   "cell_type": "code",
   "execution_count": 9,
   "metadata": {},
   "outputs": [],
   "source": [
    "#Функция, которая совмещает файлы данных в один, кроме одного. В этом файле удаляется столбец Arc. Этот файл в дальнейший будет использоваться для проверки разметки.\n",
    "def combined_data(path, exclude_paths):\n",
    "    list_of_paths = [f.path for f in os.scandir(path) if f.is_dir() and f.path not in exclude_paths] #Получаем список каталоов, находящихся в path за исключением папок, храящихся в exclude_paths\n",
    "    for dirpath in list_of_paths:\n",
    "        list_of_subdirs = [f.path for f in os.scandir(dirpath) if f.is_dir()] #Получаем подкаталоги из списка каталогов\n",
    "        for directory in list_of_subdirs:\n",
    "            file_pattern = directory+'\\\\*.csv'\n",
    "            all_files=glob.glob(file_pattern)\n",
    "            for i in range(len(all_files)):\n",
    "                dataframes = []\n",
    "                for j, file in enumerate(all_files):\n",
    "                    if j!=i:\n",
    "                        df = pd.read_csv(file)\n",
    "                        df = df.dropna() \n",
    "                        dataframes.append(df)\n",
    "\n",
    "                combined_df= pd.concat(dataframes, ignore_index=True)\n",
    "                \n",
    "                save_path = os.path.join(os.path.dirname(directory), f'Combined {os.path.basename(directory)}')\n",
    "                os.makedirs(save_path, exist_ok=True)\n",
    "                combined_df.to_csv(os.path.join(save_path, f'Combined_wo_{os.path.basename(all_files[i])}'), index = False)\n",
    "\n",
    "                df=pd.read_csv(all_files[i])\n",
    "                df = df.drop(columns=['Arc'])\n",
    "                save_path1 = os.path.join(os.path.dirname(directory), f'WO Arc {os.path.basename(directory)}')\n",
    "                os.makedirs(save_path1, exist_ok=True)\n",
    "                output_fpath=os.path.join(save_path1, f'Wo_arc_{os.path.basename(all_files[i])}') \n",
    "                df.to_csv(output_fpath, index=False)"
   ]
  },
  {
   "cell_type": "code",
   "execution_count": 10,
   "metadata": {},
   "outputs": [],
   "source": [
    "split_data([normalized_data(data_path),MA_data(normalized_data(data_path),100)],[10000,25000,50000,100000])\n",
    "binary_data(os.path.dirname(data_path),['Arc Data'])\n",
    "combined_data(os.path.dirname(data_path),['Arc Data'])"
   ]
  }
 ],
 "metadata": {
  "kernelspec": {
   "display_name": "Python 3",
   "language": "python",
   "name": "python3"
  },
  "language_info": {
   "codemirror_mode": {
    "name": "ipython",
    "version": 3
   },
   "file_extension": ".py",
   "mimetype": "text/x-python",
   "name": "python",
   "nbconvert_exporter": "python",
   "pygments_lexer": "ipython3",
   "version": "3.11.0"
  }
 },
 "nbformat": 4,
 "nbformat_minor": 2
}
